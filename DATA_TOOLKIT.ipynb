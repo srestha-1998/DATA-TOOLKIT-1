{
  "nbformat": 4,
  "nbformat_minor": 0,
  "metadata": {
    "colab": {
      "provenance": []
    },
    "kernelspec": {
      "name": "python3",
      "display_name": "Python 3"
    },
    "language_info": {
      "name": "python"
    }
  },
  "cells": [
    {
      "cell_type": "markdown",
      "source": [
        "THEORY QUESTIONS\n",
        "\n",
        "1.What is NumPy, and why is it widely used in Python?\n",
        "\n",
        "ANS.NumPy is a Python library used for working with arrays and is widely used in scientific computing with Python.\n",
        " It provides a high-performance multidimensional array object and tools for working with these arrays.\n",
        " NumPy arrays are faster to process than traditional Python lists, making it up to 50 times faster.\n",
        " It is a fundamental package for scientific computing and is used in linear algebra, Fourier transform, and random number capabilities.\n",
        " NumPy is also used as an efficient multi-dimensional container of generic data.\n",
        "\n",
        "NumPy is widely used in the field of Data Science because it offers many features and tools that make mathematical and scientific calculations fast and easy to use.\n",
        " It is a mix between C and Python that can be used as an alternative to traditional MATLAB programming, treating data as arrays for multidimensional functions and rearrangement operations.\n",
        "\n",
        " 2.How does broadcasting work in NumPy?\n",
        "\n",
        " ANS.Broadcasting in NumPy allows for arithmetic operations between arrays of different shapes by automatically aligning and extending the smaller array to match the shape of the larger array. This process does not actually duplicate the smaller array; instead, it makes memory and computationally efficient use of existing structures in memory that in effect achieve the same result.\n",
        "\n",
        "For broadcasting to be performed, the shape of each dimension in the arrays must be equal or one of them must have a dimension size of 1. The dimensions are considered in reverse order, starting with the trailing dimension. This means that NumPy will in effect pad missing dimensions with a size of \"1\" when comparing arrays.\n",
        "\n",
        "For example, consider a two-dimensional array \"A\" with 2 rows and 3 columns and a vector \"b\" with 3 elements. The vector \"b\" is broadcast across each row of the two-dimensional array \"A\" by creating a second copy to result in a new two-dimensional array \"B\". The two two-dimensional arrays can then be added directly.\n",
        "\n",
        "3.What is a Pandas DataFrame?\n",
        "\n",
        "ANS.A Pandas DataFrame is a two-dimensional, size-mutable, potentially heterogeneous tabular data structure with labeled axes (rows and columns).\n",
        " It is similar to an Excel spreadsheet or a SQL table, allowing for efficient data manipulation and analysis.\n",
        " DataFrames are widely used in data science, machine learning, scientific computing, and many other data-intensive fields.\n",
        "\n",
        "DataFrames can be created from various sources, including lists, dictionaries, and external files like CSV or Excel.\n",
        " They consist of three principal components: the data, the index (which can be numeric or based on specific column values), and the columns.\n",
        " The DataFrame structure enables users to manipulate and analyze large datasets easily.\n",
        "\n",
        " 4.Explain the use of the groupby() method in Pandas.\n",
        "\n",
        " ANS.The groupby() method in Pandas is a powerful tool used for data manipulation and analysis. It allows you to split data into groups based on specific criteria, such as the values in a column, and then apply functions to each group individually. This method is particularly useful for aggregating, transforming, or filtering data efficiently.\n",
        "\n",
        "When you use groupby(), you typically specify the column or columns by which you want to group the data. For example, if you have a DataFrame with a column named \"car\" and you want to group the data by car type, you can use df.groupby(\"car\").\n",
        "\n",
        "After grouping the data, you can apply various functions to the groups. Common aggregation methods include .mean(), .sum(), .count(), and more. For instance, you can calculate the mean of a numerical column within each group using df.groupby(\"car\").mean().\n",
        "\n",
        "Additionally, you can perform more complex operations such as applying custom functions or multiple aggregation functions simultaneously. For example, you can use the agg() function to apply different aggregation functions to different columns within the same group.\n",
        "\n",
        "The groupby() method also allows you to control the output format and behavior through optional parameters. For example, the as_index parameter can be set to False if you do not want the group labels to be used as the index in the resulting DataFrame.\n",
        "\n",
        "In summary, groupby() is a versatile method that simplifies complex data tasks, making it a go-to tool for data scientists and analysts.\n",
        "\n",
        "5.Why is Seaborn preferred for statistical visualizations?\n",
        "\n",
        "ANS.Seaborn is preferred for statistical visualizations because it provides a high-level interface for drawing attractive and informative statistical graphics, making it easier to understand data distributions and relationships between variables.\n",
        " It is built on top of the Matplotlib library and closely integrates with data structures from Pandas, offering dataset-oriented APIs that allow for switching between different visual representations of the same variables for better understanding.\n",
        " Additionally, Seaborn offers beautiful default styles and color palettes, enhancing the visual appeal of statistical plots.\n",
        "\n",
        " 6.What are the differences between NumPy arrays and Python lists?\n",
        "\n",
        " ANS.NumPy arrays and Python lists differ in several key aspects. Python lists are more flexible, allowing them to contain elements of different data types and dynamically resize, making them suitable for general programming tasks that do not require high computational power.\n",
        " In contrast, NumPy arrays are more compact and efficient for numerical computations, containing data of the same type only.\n",
        "\n",
        "Python lists take a larger amount of time and memory for numerical computations of large data, whereas NumPy arrays are very cheap in terms of time and memory for such computations.\n",
        " Additionally, NumPy arrays support vectorized operations, enabling efficient processing of large datasets, which can be particularly advantageous for mathematical calculations.\n",
        "\n",
        "For example, a Python list might take at least 20 MB to store a million elements, while a NumPy array with single-precision floats would fit in 4 MB, significantly reducing memory usage and improving performance.\n",
        "\n",
        "7.What is a heatmap, and when should it be used?\n",
        "\n",
        "ANS.A heatmap is a graphical representation of data that uses a system of color-coding to represent different values. The variation in color may be by hue or intensity, and it allows users to visualize data points and compare among different performers.\n",
        "\n",
        "Heatmaps are particularly useful in various scenarios, such as:\n",
        "\n",
        "Website and app optimization: Heatmaps are often used in digital marketing to analyze user behavior on websites and apps, revealing how users interact with a page and which areas receive the most attention.\n",
        "Financial analysis: Heatmaps can log changes in daily markets, enabling the prediction of patterns and the easy revisiting of past numerical data.\n",
        "Geographical visualization: Heatmaps are used to visualize and display a geographic distribution of data, helping users see the intensities of certain phenomena and show items of most or least importance.\n",
        "Risk assessment and management: Heatmaps can visualize the geographic spread of potential risks, such as natural disasters or market fluctuations, enabling organizations to plan and respond proactively.\n",
        "Heatmaps are a powerful tool for data visualization, offering numerous benefits that make them an essential resource for various industries and applications. They enhance visual clarity, simplify the visualization process, and reveal insights that might otherwise go unnoticed.\n",
        "\n",
        "8.What does the term “vectorized operation” mean in NumPy?\n",
        "\n",
        "ANS.In the context of NumPy, a vectorized operation refers to the use of optimized, pre-compiled code written in a low-level language (e.g., C) to perform mathematical operations over a sequence of data, such as an array, in place of an explicit iteration written in the native language code (e.g., a \"for-loop\" written in Python).\n",
        "\n",
        "This process allows NumPy to perform operations on entire arrays, eliminating the need to loop through individual elements. For example, when adding a number to a NumPy array, the number is added to each element of the array simultaneously.\n",
        " This is possible because NumPy arrays are homogeneous, meaning they can only contain data of a single type, which enables NumPy to delegate the task of performing mathematical operations on the array's contents to optimized, compiled C code.\n",
        "\n",
        "Vectorized operations in NumPy are highly optimized and can provide a significant speedup compared to equivalent operations performed using Python loops, especially when working with large datasets.\n",
        "\n",
        "9.How does Matplotlib differ from Plotly?\n",
        "\n",
        "ANS.Matplotlib and Plotly are both popular Python libraries for data visualization, but they differ significantly in their approach and capabilities. Matplotlib, first released in 2003, is known for its simplicity and flexibility, offering a wide range of static plot types and extensive customization options.\n",
        " It is often used for initial exploratory analysis and minimalistic graph designs, and it integrates well with other Python libraries like NumPy and pandas.\n",
        "\n",
        "On the other hand, Plotly, introduced in 2013, focuses on interactivity and modern web-based charts, making it a vibrant alternative to traditional data plotting tools.\n",
        " Plotly's interactive features, such as zooming, panning, and hovering, enhance exploratory data analysis and presentations by providing deeper insights.\n",
        " Additionally, Plotly supports a wide range of chart types, including 3D plots and geospatial data visualizations, which are either limited or require additional libraries in Matplotlib and Seaborn.\n",
        "\n",
        "While Matplotlib is fully open-source and can be more efficient for rendering large datasets, Plotly's interactive plots can be slower and may not be suitable for environments with restricted web access.\n",
        " Plotly also integrates seamlessly with Dash, a framework for building analytical web applications, allowing for the creation of interactive, web-based dashboards without diving into JavaScript.\n",
        "\n",
        " 10.What is the significance of hierarchical indexing in Pandas?\n",
        "\n",
        " ANS.Hierarchical indexing, also known as multi-indexing, is a feature in Pandas that allows for the creation of structured group relationships in DataFrames, enabling more complex queries and data manipulation.\n",
        " It is particularly useful for handling high-dimensional data by allowing multiple levels of indexing on an axis (row or column), which can make data analysis more efficient and intuitive.\n",
        "\n",
        "Hierarchical indexing can provide optimized queries and preserve relationships within the data, making it easier to perform complex queries on grouped data without needing to maintain relationships across queries.\n",
        " This feature is especially beneficial when dealing with large datasets, as it allows for more structured and insightful analysis.\n",
        "\n",
        "Hierarchical indexing supports various operations such as partial indexing, slicing, and grouping, which can be performed efficiently on sorted indices.\n",
        " Additionally, it enables the swapping of levels in a MultiIndex to facilitate different analyses and sorting for efficient slicing.\n",
        "\n",
        "Hierarchical indexing can be created directly using levels and labels, or by passing a list of index arrays to the DataFrame or Series constructor.\n",
        " It can also be used to name the levels of the MultiIndex for better tracking of index meanings in more involved datasets.\n",
        "\n",
        " 11.What is the role of Seaborn’s pairplot() function?\n",
        "\n",
        " ANS.The seaborn pairplot() function is used to plot pairwise relationships in a dataset. It creates a grid of Axes such that each numeric variable in the data is shared across the y-axes across a single row and the x-axes across a single column. The diagonal plots are treated differently, displaying a univariate distribution plot to show the marginal distribution of the data in each column.\n",
        "\n",
        "This function is particularly useful for visualizing correlations and trends between multiple variables in a dataset, making it easier to understand complex data relationships.\n",
        " It can also be customized with various parameters, such as hue for mapping plot aspects to different colors based on a categorical variable, kind to determine the type of plot (scatter, kde, hist, reg), and diag_kind to specify the type of plot for the diagonal subplots.\n",
        "\n",
        " 12.What is the purpose of the describe() function in Pandas?\n",
        "\n",
        " ANS.The describe() function in Pandas is used to generate descriptive statistics that summarize the central tendency, dispersion, and shape of a dataset's distribution, excluding NaN values.\n",
        " It provides a quick overview of the main statistics for each column of numerical data, such as count, mean, standard deviation, minimum, maximum, and the values at the 25th, 50th (median), and 75th percentiles.\n",
        " For non-numerical data, it can provide statistics like count, unique values, the most frequent value (top), and its frequency (freq).\n",
        " This function is essential for initial data assessment and helps in understanding the basic statistical insights of the dataset.\n",
        "\n",
        " 13.Why is handling missing data important in Pandas?\n",
        "\n",
        " ANS.Handling missing data is important in Pandas because it ensures the accuracy and reliability of data analysis. Missing data can lead to incorrect analysis and misleading conclusions, potentially harming the accuracy and dependability of models and insights derived from the data.\n",
        "\n",
        "Missing data can arise from uncollected data or incomplete entries, and it is essential to address these issues to ensure clean and accurate data for analysis.\n",
        " Pandas provides several functions like dropna(), fillna(), and combine_first() to handle missing values, allowing users to either remove, fill, or keep the missing data based on the specific requirements of their analysis.\n",
        "\n",
        "In real-world datasets, missing data is common and can cause several problems in developing the data pipeline. Therefore, handling missing data is crucial to avoid potential issues and ensure that the data is ready for further analysis or modeling.\n",
        "\n",
        "14.What are the benefits of using Plotly for data visualization?\n",
        "\n",
        "ANS.Using Plotly for data visualization offers several benefits, including its ability to create interactive and customizable visualizations with just a few lines of code.\n",
        " This interactivity allows users to zoom, hover over data points for additional information, and even filter data interactively, making it particularly useful for exploring large datasets.\n",
        " Additionally, Plotly supports a wide range of chart types, from basic bar and line graphs to more complex 3D surface plots, choropleth maps, and treemaps, providing flexibility for various visualization needs.\n",
        "\n",
        "Plotly’s integration with Dash enables the creation of full-fledged data dashboards, allowing for web-based interactive presentations.\n",
        " This combination of visual aesthetics and functionality makes Plotly a versatile tool for both exploratory data analysis and detailed dashboard creation.\n",
        "\n",
        "Furthermore, Plotly is adaptable, allowing users to start with simple visualizations through its online graph maker or use it as a programming library for more advanced customization.\n",
        " It also supports statistical analysis, including curve fitting and moving average analyses, enhancing its utility for data exploration.\n",
        "\n",
        "Overall, Plotly stands out for its simplicity, interactivity, and extensive customization options, making it a valuable tool for data scientists and analysts\n",
        "\n",
        "15.How does NumPy handle multidimensional arrays?\n",
        "\n",
        "ANS.NumPy handles multidimensional arrays efficiently by providing a powerful N-dimensional array object. This object allows for the storage and manipulation of data in multiple dimensions or axes, making it a versatile tool for scientific and engineering applications.\n",
        "\n",
        "16.What is the role of Bokeh in data visualization?\n",
        "\n",
        "ANS.Bokeh is a Python library for creating interactive visualizations that can be embedded in web applications or shared as standalone HTML files.\n",
        " It provides a high-level interface for creating visually appealing plots, dashboards, and applications that are easy to share and explore.\n",
        " Bokeh is particularly useful for handling large and complex datasets efficiently, leveraging modern web technologies such as WebGL and WebSockets to deliver high-performance visualizations.\n",
        " It integrates seamlessly with the Python ecosystem, making it a powerful tool for data exploration, analysis, and communication.\n",
        "\n",
        "Bokeh enables data scientists to create interactive visualizations that respond to user interactions, allowing for dynamic exploration and analysis of data.\n",
        " This interactivity can enhance the understanding of complex datasets and facilitate better decision-making.\n",
        " Additionally, Bokeh supports various types of plots and charts, including histograms, line graphs, scatter plots, and more.\n",
        "\n",
        " 17.Explain the difference between apply() and map() in Pandas?\n",
        "\n",
        " ANS.In Pandas, map() and apply() are used to transform data but serve different purposes and have distinct usage scenarios.\n",
        "\n",
        "The map() method is specifically designed for Series objects and can accept a dictionary, Series, or a callable function as its input argument.\n",
        " It operates on one element at a time and is useful for mapping values based on a dictionary or applying a function to each element individually.\n",
        " Missing values will be recorded as NaN in the output.\n",
        "\n",
        "On the other hand, apply() is defined for both Series and DataFrame objects.\n",
        " It accepts only callable functions as its input argument.\n",
        " For DataFrames, apply() operates on entire rows or columns at a time, making it suitable for more complex operations and aggregations.\n",
        " For Series, apply() operates on each element individually.\n",
        " This method is preferred when you need more flexibility and want to apply functions along the rows or columns of a DataFrame, enabling complex data manipulations.\n",
        "\n",
        "In summary, map() is more suited for simple transformations on Series objects, while apply() offers greater flexibility for both Series and DataFrame objects, particularly for complex operations that involve aggregating values across rows or columns.\n",
        "\n",
        "18.What are some advanced features of NumPy?\n",
        "\n",
        "ANS.NumPy offers several advanced features that make it a powerful tool for numerical computing. It supports multi-dimensional arrays, which allow for convenient creation, manipulation, and operation on arrays of arbitrary dimensions. This feature is essential for handling large datasets, images, and other types of numerical data efficiently.\n",
        "\n",
        "Broadcasting is another advanced feature that allows NumPy to operate on arrays of different dimensions and shapes without the need for explicit loops. This simplifies code and makes it more efficient by automatically aligning the dimensions of arrays during element-wise operations.\n",
        "\n",
        "NumPy also provides universal functions (ufuncs) that are optimized for performance and can operate on arrays of any shape or size. These include basic mathematical operations such as addition, subtraction, multiplication, and division, as well as more complex operations like trigonometric, exponential, and logarithmic functions.\n",
        "\n",
        "Additionally, NumPy supports indexing and slicing capabilities that allow for the extraction and manipulation of subsets of arrays. This includes Boolean indexing, which enables selection of elements based on certain criteria, making it easy to perform complex operations without iterating over every element.\n",
        "\n",
        "NumPy's random number generation library provides a range of functions for generating random integers, floats, and arrays, which is useful for simulations, statistical analysis, and other applications.\n",
        "\n",
        "Lastly, NumPy includes support for masked arrays, which allow you to mask certain elements of an array, and structured arrays, which can store heterogeneous data types.\n",
        "\n",
        "19.How does Pandas simplify time series analysis?\n",
        "\n",
        "ANS.Pandas simplifies time series analysis by providing the DatetimeIndex and time-aware data structures, which allow for efficient handling of time-based operations.\n",
        " These tools enable users to easily organize, transform, analyze, and visualize data at any level of granularity, from examining details during specific time periods to exploring variations on different time scales.\n",
        "\n",
        "Key functionalities include:\n",
        "\n",
        "Time-based slicing, enabling intuitive and efficient filtering of data using natural language-like syntax.\n",
        "Resampling, which allows for both downsampling (reducing the frequency of data, e.g., converting daily data into monthly averages) and upsampling (increasing the frequency, e.g., generating hourly intervals from daily data).\n",
        "Rolling calculations, which are essential for analyzing trends and patterns in time series data by computing statistics over a moving or cumulative window.\n",
        "Handling missing values effectively through methods like forward-fill or backward-fill.\n",
        "These features, combined with vectorized operations and the ability to process large files in chunks, help optimize performance and unlock the full potential of time series data.\n",
        "\n",
        "20.What is the role of a pivot table in Pandas?\n",
        "\n",
        "ANS.In Pandas, a pivot table is a powerful tool for summarizing and reshaping data. It allows you to transform a DataFrame into a more structured format, making it easier to analyze and compare different variables. The pivot table function can aggregate data using various statistical functions such as mean, median, sum, and more, providing a summarized view of the data.\n",
        "\n",
        "The pivot table function in Pandas is similar to those found in spreadsheet tools like Microsoft Excel. It takes a DataFrame and parameters that specify the shape of the output, such as the columns to use as the index, columns, and values, as well as the aggregation function to apply.\n",
        "\n",
        "For example, if you have a dataset with sales data, you can use a pivot table to summarize sales by product category and region, calculating the total sales or average sales for each category in each region.\n",
        "\n",
        "21.Why is NumPy’s array slicing faster than Python’s list slicing?\n",
        "\n",
        "ANS.NumPy array slicing is generally faster than Python list slicing due to several factors. NumPy arrays store elements of the same data type in contiguous memory locations, which allows for efficient memory usage and faster access times. Additionally, NumPy operations are implemented in compiled C code, which executes much faster than Python loops or list comprehensions.\n",
        "\n",
        "However, there are specific cases where Python list slicing might be faster than NumPy array slicing. For example, when accessing single elements, Python lists can be faster due to the overhead associated with NumPy's array operations.\n",
        " In the case of single-element accesses, NumPy array operations can be about 5 times slower than equivalent Python list accesses.\n",
        "\n",
        "In summary, while NumPy arrays are optimized for numerical computations and generally offer better performance for large datasets and complex mathematical operations, Python lists might outperform NumPy arrays in scenarios involving small datasets or single-element accesses.\n",
        "\n",
        "22.What are some common use cases for Seaborn?\n",
        "\n",
        "ANS.Seaborn is widely used for exploratory data analysis (EDA) where its ability to create complex plots with minimal code helps in understanding data distributions and relationships.\n",
        " It is also valuable for statistical analysis, providing functions for visualizing statistical relationships such as regression plots and heatmaps, which are useful for identifying patterns and correlations in data.\n",
        " Additionally, Seaborn is often utilized in machine learning to visualize model performance, feature importance, and data preprocessing steps, such as plotting confusion matrices and ROC curves.\n",
        "\n",
        "Seaborn's default styles and color palettes are designed to produce visually appealing plots suitable for academic publications and presentations.\n",
        " This makes it a preferred tool for data scientists, analysts, and machine learning engineers who need to convey insights effectively."
      ],
      "metadata": {
        "id": "jAvpCypp5uJk"
      }
    },
    {
      "cell_type": "markdown",
      "source": [
        "PRACTICAL QUESTIONS."
      ],
      "metadata": {
        "id": "f9rYd_j6W5Ao"
      }
    },
    {
      "cell_type": "markdown",
      "source": [
        "1.How do you create a 2D NumPy array and calculate the sum of each row?"
      ],
      "metadata": {
        "id": "lk__I-71W_o8"
      }
    },
    {
      "cell_type": "code",
      "source": [
        "import numpy as np\n",
        "arr = np.array([[1, 2, 3],\n",
        "                [4, 5, 6],\n",
        "                [7, 8, 9]])\n",
        "row_sums = np.sum(arr, axis=1)\n",
        "print(row_sums)"
      ],
      "metadata": {
        "colab": {
          "base_uri": "https://localhost:8080/"
        },
        "id": "3qbo5ONAXFyV",
        "outputId": "ad390bfd-06a0-49d7-f477-166a92ab4513"
      },
      "execution_count": 1,
      "outputs": [
        {
          "output_type": "stream",
          "name": "stdout",
          "text": [
            "[ 6 15 24]\n"
          ]
        }
      ]
    },
    {
      "cell_type": "markdown",
      "source": [
        "2.Write a Pandas script to find the mean of a specific column in a DataFrame."
      ],
      "metadata": {
        "id": "EUTMMBq6XVZ5"
      }
    },
    {
      "cell_type": "code",
      "source": [
        "import pandas as pd\n",
        "\n",
        "# Sample DataFrame\n",
        "data = {\n",
        "    'Name': ['Alice', 'Bob', 'Charlie', 'David'],\n",
        "    'Age': [25, 30, 35, 40],\n",
        "    'Salary': [50000, 60000, 70000, 80000]\n",
        "}\n",
        "\n",
        "df = pd.DataFrame(data)\n",
        "\n",
        "# Calculate the mean of the 'Salary' column\n",
        "mean_salary = df['Salary'].mean()\n",
        "\n",
        "print(f\"Mean Salary: {mean_salary}\")"
      ],
      "metadata": {
        "colab": {
          "base_uri": "https://localhost:8080/"
        },
        "id": "el7NtIhdXZyJ",
        "outputId": "1f785bc0-64f7-4a79-a206-e9e48e5db492"
      },
      "execution_count": 2,
      "outputs": [
        {
          "output_type": "stream",
          "name": "stdout",
          "text": [
            "Mean Salary: 65000.0\n"
          ]
        }
      ]
    },
    {
      "cell_type": "markdown",
      "source": [
        "3.Create a scatter plot using Matplotlib."
      ],
      "metadata": {
        "id": "Tn8Z03UqXhg1"
      }
    },
    {
      "cell_type": "code",
      "source": [
        "import matplotlib.pyplot as plt\n",
        "\n",
        "# Sample data\n",
        "x = [1, 2, 3, 4, 5]\n",
        "y = [2, 4, 1, 3, 7]\n",
        "\n",
        "# Create scatter plot\n",
        "plt.scatter(x, y, color='blue', marker='o')\n",
        "\n",
        "# Add titles and labels\n",
        "plt.title('Sample Scatter Plot')\n",
        "plt.xlabel('X Axis')\n",
        "plt.ylabel('Y Axis')\n",
        "\n",
        "# Show the plot\n",
        "plt.show()"
      ],
      "metadata": {
        "colab": {
          "base_uri": "https://localhost:8080/",
          "height": 472
        },
        "id": "QU-EwpF8XlfY",
        "outputId": "b44e1531-c3b6-4d72-897b-c7551b0d39ca"
      },
      "execution_count": 3,
      "outputs": [
        {
          "output_type": "display_data",
          "data": {
            "text/plain": [
              "<Figure size 640x480 with 1 Axes>"
            ],
            "image/png": "[encoded data removed]"
          },
          "metadata": {}
        }
      ]
    },
    {
      "cell_type": "markdown",
      "source": [
        "4.How do you calculate the correlation matrix using Seaborn and visualize it with a heatmap?"
      ],
      "metadata": {
        "id": "AwbBa9JmXrSA"
      }
    },
    {
      "cell_type": "code",
      "source": [
        "import pandas as pd\n",
        "import seaborn as sns\n",
        "import matplotlib.pyplot as plt\n",
        "\n",
        "# Sample DataFrame\n",
        "data = {\n",
        "    'A': [1, 2, 3, 4, 5],\n",
        "    'B': [5, 4, 3, 2, 1],\n",
        "    'C': [2, 3, 4, 5, 6]\n",
        "}\n",
        "df = pd.DataFrame(data)\n",
        "\n",
        "# Calculate correlation matrix\n",
        "corr_matrix = df.corr()\n",
        "\n",
        "# Create heatmap\n",
        "sns.heatmap(corr_matrix, annot=True, cmap='coolwarm')\n",
        "\n",
        "# Show plot\n",
        "plt.title(\"Correlation Matrix Heatmap\")\n",
        "plt.show()"
      ],
      "metadata": {
        "colab": {
          "base_uri": "https://localhost:8080/",
          "height": 452
        },
        "id": "mQzMFiQwXwTv",
        "outputId": "26e47f91-fba0-4a86-ea86-d0de90602fe8"
      },
      "execution_count": 4,
      "outputs": [
        {
          "output_type": "display_data",
          "data": {
            "text/plain": [
              "<Figure size 640x480 with 2 Axes>"
            ],
            "image/png": "[encoded data removed]"
          },
          "metadata": {}
        }
      ]
    },
    {
      "cell_type": "markdown",
      "source": [
        "5.Generate a bar plot using Plotly."
      ],
      "metadata": {
        "id": "O06cIB8bX5t1"
      }
    },
    {
      "cell_type": "code",
      "source": [
        "import plotly.express as px\n",
        "\n",
        "# Sample data\n",
        "data = {\n",
        "    'Fruits': ['Apples', 'Oranges', 'Bananas', 'Grapes'],\n",
        "    'Quantity': [10, 15, 7, 12]\n",
        "}\n",
        "\n",
        "# Create DataFrame\n",
        "import pandas as pd\n",
        "df = pd.DataFrame(data)\n",
        "\n",
        "# Create bar plot\n",
        "fig = px.bar(df, x='Fruits', y='Quantity', title='Fruit Quantities')\n",
        "\n",
        "# Show plot\n",
        "fig.show()"
      ],
      "metadata": {
        "colab": {
          "base_uri": "https://localhost:8080/",
          "height": 542
        },
        "id": "bnoJ5K5kX-td",
        "outputId": "1623674d-057d-4f29-dce3-05b7cc73e228"
      },
      "execution_count": 5,
      "outputs": [
        {
          "output_type": "display_data",
          "data": {
            "text/html": [
              "<html>\n",
              "<head><meta charset=\"utf-8\" /></head>\n",
              "<body>\n",
              "    <div>            <script src=\"https://cdnjs.cloudflare.com/ajax/libs/mathjax/2.7.5/MathJax.js?config=TeX-AMS-MML_SVG\"></script><script type=\"text/javascript\">if (window.MathJax && window.MathJax.Hub && window.MathJax.Hub.Config) {window.MathJax.Hub.Config({SVG: {font: \"STIX-Web\"}});}</script>                <script type=\"text/javascript\">window.PlotlyConfig = {MathJaxConfig: 'local'};</script>\n",
              "        <script charset=\"utf-8\" src=\"https://cdn.plot.ly/plotly-2.35.2.min.js\"></script>                <div id=\"e9d2cba9-1507-4434-8267-f5266487eaa8\" class=\"plotly-graph-div\" style=\"height:525px; width:100%;\"></div>            <script type=\"text/javascript\">                                    window.PLOTLYENV=window.PLOTLYENV || {};                                    if (document.getElementById(\"e9d2cba9-1507-4434-8267-f5266487eaa8\")) {                    Plotly.newPlot(                        \"e9d2cba9-1507-4434-8267-f5266487eaa8\",                        [{\"alignmentgroup\":\"True\",\"hovertemplate\":\"Fruits=%{x}\\u003cbr\\u003eQuantity=%{y}\\u003cextra\\u003e\\u003c\\u002fextra\\u003e\",\"legendgroup\":\"\",\"marker\":{\"color\":\"#636efa\",\"pattern\":{\"shape\":\"\"}},\"name\":\"\",\"offsetgroup\":\"\",\"orientation\":\"v\",\"showlegend\":false,\"textposition\":\"auto\",\"x\":[\"Apples\",\"Oranges\",\"Bananas\",\"Grapes\"],\"xaxis\":\"x\",\"y\":[10,15,7,12],\"yaxis\":\"y\",\"type\":\"bar\"}],                        {\"template\":{\"data\":{\"histogram2dcontour\":[{\"type\":\"histogram2dcontour\",\"colorbar\":{\"outlinewidth\":0,\"ticks\":\"\"},\"colorscale\":[[0.0,\"#0d0887\"],[0.1111111111111111,\"#46039f\"],[0.2222222222222222,\"#7201a8\"],[0.3333333333333333,\"#9c179e\"],[0.4444444444444444,\"#bd3786\"],[0.5555555555555556,\"#d8576b\"],[0.6666666666666666,\"#ed7953\"],[0.7777777777777778,\"#fb9f3a\"],[0.8888888888888888,\"#fdca26\"],[1.0,\"#f0f921\"]]}],\"choropleth\":[{\"type\":\"choropleth\",\"colorbar\":{\"outlinewidth\":0,\"ticks\":\"\"}}],\"histogram2d\":[{\"type\":\"histogram2d\",\"colorbar\":{\"outlinewidth\":0,\"ticks\":\"\"},\"colorscale\":[[0.0,\"#0d0887\"],[0.1111111111111111,\"#46039f\"],[0.2222222222222222,\"#7201a8\"],[0.3333333333333333,\"#9c179e\"],[0.4444444444444444,\"#bd3786\"],[0.5555555555555556,\"#d8576b\"],[0.6666666666666666,\"#ed7953\"],[0.7777777777777778,\"#fb9f3a\"],[0.8888888888888888,\"#fdca26\"],[1.0,\"#f0f921\"]]}],\"heatmap\":[{\"type\":\"heatmap\",\"colorbar\":{\"outlinewidth\":0,\"ticks\":\"\"},\"colorscale\":[[0.0,\"#0d0887\"],[0.1111111111111111,\"#46039f\"],[0.2222222222222222,\"#7201a8\"],[0.3333333333333333,\"#9c179e\"],[0.4444444444444444,\"#bd3786\"],[0.5555555555555556,\"#d8576b\"],[0.6666666666666666,\"#ed7953\"],[0.7777777777777778,\"#fb9f3a\"],[0.8888888888888888,\"#fdca26\"],[1.0,\"#f0f921\"]]}],\"heatmapgl\":[{\"type\":\"heatmapgl\",\"colorbar\":{\"outlinewidth\":0,\"ticks\":\"\"},\"colorscale\":[[0.0,\"#0d0887\"],[0.1111111111111111,\"#46039f\"],[0.2222222222222222,\"#7201a8\"],[0.3333333333333333,\"#9c179e\"],[0.4444444444444444,\"#bd3786\"],[0.5555555555555556,\"#d8576b\"],[0.6666666666666666,\"#ed7953\"],[0.7777777777777778,\"#fb9f3a\"],[0.8888888888888888,\"#fdca26\"],[1.0,\"#f0f921\"]]}],\"contourcarpet\":[{\"type\":\"contourcarpet\",\"colorbar\":{\"outlinewidth\":0,\"ticks\":\"\"}}],\"contour\":[{\"type\":\"contour\",\"colorbar\":{\"outlinewidth\":0,\"ticks\":\"\"},\"colorscale\":[[0.0,\"#0d0887\"],[0.1111111111111111,\"#46039f\"],[0.2222222222222222,\"#7201a8\"],[0.3333333333333333,\"#9c179e\"],[0.4444444444444444,\"#bd3786\"],[0.5555555555555556,\"#d8576b\"],[0.6666666666666666,\"#ed7953\"],[0.7777777777777778,\"#fb9f3a\"],[0.8888888888888888,\"#fdca26\"],[1.0,\"#f0f921\"]]}],\"surface\":[{\"type\":\"surface\",\"colorbar\":{\"outlinewidth\":0,\"ticks\":\"\"},\"colorscale\":[[0.0,\"#0d0887\"],[0.1111111111111111,\"#46039f\"],[0.2222222222222222,\"#7201a8\"],[0.3333333333333333,\"#9c179e\"],[0.4444444444444444,\"#bd3786\"],[0.5555555555555556,\"#d8576b\"],[0.6666666666666666,\"#ed7953\"],[0.7777777777777778,\"#fb9f3a\"],[0.8888888888888888,\"#fdca26\"],[1.0,\"#f0f921\"]]}],\"mesh3d\":[{\"type\":\"mesh3d\",\"colorbar\":{\"outlinewidth\":0,\"ticks\":\"\"}}],\"scatter\":[{\"fillpattern\":{\"fillmode\":\"overlay\",\"size\":10,\"solidity\":0.2},\"type\":\"scatter\"}],\"parcoords\":[{\"type\":\"parcoords\",\"line\":{\"colorbar\":{\"outlinewidth\":0,\"ticks\":\"\"}}}],\"scatterpolargl\":[{\"type\":\"scatterpolargl\",\"marker\":{\"colorbar\":{\"outlinewidth\":0,\"ticks\":\"\"}}}],\"bar\":[{\"error_x\":{\"color\":\"#2a3f5f\"},\"error_y\":{\"color\":\"#2a3f5f\"},\"marker\":{\"line\":{\"color\":\"#E5ECF6\",\"width\":0.5},\"pattern\":{\"fillmode\":\"overlay\",\"size\":10,\"solidity\":0.2}},\"type\":\"bar\"}],\"scattergeo\":[{\"type\":\"scattergeo\",\"marker\":{\"colorbar\":{\"outlinewidth\":0,\"ticks\":\"\"}}}],\"scatterpolar\":[{\"type\":\"scatterpolar\",\"marker\":{\"colorbar\":{\"outlinewidth\":0,\"ticks\":\"\"}}}],\"histogram\":[{\"marker\":{\"pattern\":{\"fillmode\":\"overlay\",\"size\":10,\"solidity\":0.2}},\"type\":\"histogram\"}],\"scattergl\":[{\"type\":\"scattergl\",\"marker\":{\"colorbar\":{\"outlinewidth\":0,\"ticks\":\"\"}}}],\"scatter3d\":[{\"type\":\"scatter3d\",\"line\":{\"colorbar\":{\"outlinewidth\":0,\"ticks\":\"\"}},\"marker\":{\"colorbar\":{\"outlinewidth\":0,\"ticks\":\"\"}}}],\"scattermapbox\":[{\"type\":\"scattermapbox\",\"marker\":{\"colorbar\":{\"outlinewidth\":0,\"ticks\":\"\"}}}],\"scatterternary\":[{\"type\":\"scatterternary\",\"marker\":{\"colorbar\":{\"outlinewidth\":0,\"ticks\":\"\"}}}],\"scattercarpet\":[{\"type\":\"scattercarpet\",\"marker\":{\"colorbar\":{\"outlinewidth\":0,\"ticks\":\"\"}}}],\"carpet\":[{\"aaxis\":{\"endlinecolor\":\"#2a3f5f\",\"gridcolor\":\"white\",\"linecolor\":\"white\",\"minorgridcolor\":\"white\",\"startlinecolor\":\"#2a3f5f\"},\"baxis\":{\"endlinecolor\":\"#2a3f5f\",\"gridcolor\":\"white\",\"linecolor\":\"white\",\"minorgridcolor\":\"white\",\"startlinecolor\":\"#2a3f5f\"},\"type\":\"carpet\"}],\"table\":[{\"cells\":{\"fill\":{\"color\":\"#EBF0F8\"},\"line\":{\"color\":\"white\"}},\"header\":{\"fill\":{\"color\":\"#C8D4E3\"},\"line\":{\"color\":\"white\"}},\"type\":\"table\"}],\"barpolar\":[{\"marker\":{\"line\":{\"color\":\"#E5ECF6\",\"width\":0.5},\"pattern\":{\"fillmode\":\"overlay\",\"size\":10,\"solidity\":0.2}},\"type\":\"barpolar\"}],\"pie\":[{\"automargin\":true,\"type\":\"pie\"}]},\"layout\":{\"autotypenumbers\":\"strict\",\"colorway\":[\"#636efa\",\"#EF553B\",\"#00cc96\",\"#ab63fa\",\"#FFA15A\",\"#19d3f3\",\"#FF6692\",\"#B6E880\",\"#FF97FF\",\"#FECB52\"],\"font\":{\"color\":\"#2a3f5f\"},\"hovermode\":\"closest\",\"hoverlabel\":{\"align\":\"left\"},\"paper_bgcolor\":\"white\",\"plot_bgcolor\":\"#E5ECF6\",\"polar\":{\"bgcolor\":\"#E5ECF6\",\"angularaxis\":{\"gridcolor\":\"white\",\"linecolor\":\"white\",\"ticks\":\"\"},\"radialaxis\":{\"gridcolor\":\"white\",\"linecolor\":\"white\",\"ticks\":\"\"}},\"ternary\":{\"bgcolor\":\"#E5ECF6\",\"aaxis\":{\"gridcolor\":\"white\",\"linecolor\":\"white\",\"ticks\":\"\"},\"baxis\":{\"gridcolor\":\"white\",\"linecolor\":\"white\",\"ticks\":\"\"},\"caxis\":{\"gridcolor\":\"white\",\"linecolor\":\"white\",\"ticks\":\"\"}},\"coloraxis\":{\"colorbar\":{\"outlinewidth\":0,\"ticks\":\"\"}},\"colorscale\":{\"sequential\":[[0.0,\"#0d0887\"],[0.1111111111111111,\"#46039f\"],[0.2222222222222222,\"#7201a8\"],[0.3333333333333333,\"#9c179e\"],[0.4444444444444444,\"#bd3786\"],[0.5555555555555556,\"#d8576b\"],[0.6666666666666666,\"#ed7953\"],[0.7777777777777778,\"#fb9f3a\"],[0.8888888888888888,\"#fdca26\"],[1.0,\"#f0f921\"]],\"sequentialminus\":[[0.0,\"#0d0887\"],[0.1111111111111111,\"#46039f\"],[0.2222222222222222,\"#7201a8\"],[0.3333333333333333,\"#9c179e\"],[0.4444444444444444,\"#bd3786\"],[0.5555555555555556,\"#d8576b\"],[0.6666666666666666,\"#ed7953\"],[0.7777777777777778,\"#fb9f3a\"],[0.8888888888888888,\"#fdca26\"],[1.0,\"#f0f921\"]],\"diverging\":[[0,\"#8e0152\"],[0.1,\"#c51b7d\"],[0.2,\"#de77ae\"],[0.3,\"#f1b6da\"],[0.4,\"#fde0ef\"],[0.5,\"#f7f7f7\"],[0.6,\"#e6f5d0\"],[0.7,\"#b8e186\"],[0.8,\"#7fbc41\"],[0.9,\"#4d9221\"],[1,\"#276419\"]]},\"xaxis\":{\"gridcolor\":\"white\",\"linecolor\":\"white\",\"ticks\":\"\",\"title\":{\"standoff\":15},\"zerolinecolor\":\"white\",\"automargin\":true,\"zerolinewidth\":2},\"yaxis\":{\"gridcolor\":\"white\",\"linecolor\":\"white\",\"ticks\":\"\",\"title\":{\"standoff\":15},\"zerolinecolor\":\"white\",\"automargin\":true,\"zerolinewidth\":2},\"scene\":{\"xaxis\":{\"backgroundcolor\":\"#E5ECF6\",\"gridcolor\":\"white\",\"linecolor\":\"white\",\"showbackground\":true,\"ticks\":\"\",\"zerolinecolor\":\"white\",\"gridwidth\":2},\"yaxis\":{\"backgroundcolor\":\"#E5ECF6\",\"gridcolor\":\"white\",\"linecolor\":\"white\",\"showbackground\":true,\"ticks\":\"\",\"zerolinecolor\":\"white\",\"gridwidth\":2},\"zaxis\":{\"backgroundcolor\":\"#E5ECF6\",\"gridcolor\":\"white\",\"linecolor\":\"white\",\"showbackground\":true,\"ticks\":\"\",\"zerolinecolor\":\"white\",\"gridwidth\":2}},\"shapedefaults\":{\"line\":{\"color\":\"#2a3f5f\"}},\"annotationdefaults\":{\"arrowcolor\":\"#2a3f5f\",\"arrowhead\":0,\"arrowwidth\":1},\"geo\":{\"bgcolor\":\"white\",\"landcolor\":\"#E5ECF6\",\"subunitcolor\":\"white\",\"showland\":true,\"showlakes\":true,\"lakecolor\":\"white\"},\"title\":{\"x\":0.05},\"mapbox\":{\"style\":\"light\"}}},\"xaxis\":{\"anchor\":\"y\",\"domain\":[0.0,1.0],\"title\":{\"text\":\"Fruits\"}},\"yaxis\":{\"anchor\":\"x\",\"domain\":[0.0,1.0],\"title\":{\"text\":\"Quantity\"}},\"legend\":{\"tracegroupgap\":0},\"title\":{\"text\":\"Fruit Quantities\"},\"barmode\":\"relative\"},                        {\"responsive\": true}                    ).then(function(){\n",
              "                            \n",
              "var gd = document.getElementById('e9d2cba9-1507-4434-8267-f5266487eaa8');\n",
              "var x = new MutationObserver(function (mutations, observer) {{\n",
              "        var display = window.getComputedStyle(gd).display;\n",
              "        if (!display || display === 'none') {{\n",
              "            console.log([gd, 'removed!']);\n",
              "            Plotly.purge(gd);\n",
              "            observer.disconnect();\n",
              "        }}\n",
              "}});\n",
              "\n",
              "// Listen for the removal of the full notebook cells\n",
              "var notebookContainer = gd.closest('#notebook-container');\n",
              "if (notebookContainer) {{\n",
              "    x.observe(notebookContainer, {childList: true});\n",
              "}}\n",
              "\n",
              "// Listen for the clearing of the current output cell\n",
              "var outputEl = gd.closest('.output');\n",
              "if (outputEl) {{\n",
              "    x.observe(outputEl, {childList: true});\n",
              "}}\n",
              "\n",
              "                        })                };                            </script>        </div>\n",
              "</body>\n",
              "</html>"
            ]
          },
          "metadata": {}
        }
      ]
    },
    {
      "cell_type": "markdown",
      "source": [
        "6.Create a DataFrame and add a new column based on an existing column."
      ],
      "metadata": {
        "id": "xgOJ5HDAYKbF"
      }
    },
    {
      "cell_type": "code",
      "source": [
        "import pandas as pd\n",
        "\n",
        "# Create a DataFrame\n",
        "data = {\n",
        "    'Name': ['Alice', 'Bob', 'Charlie'],\n",
        "    'Salary': [50000, 60000, 70000]\n",
        "}\n",
        "\n",
        "df = pd.DataFrame(data)\n",
        "import pandas as pd\n",
        "\n",
        "# Create a DataFrame\n",
        "data = {\n",
        "    'Name': ['Alice', 'Bob', 'Charlie'],\n",
        "    'Salary': [50000, 60000, 70000]\n",
        "}\n",
        "\n",
        "df = pd.DataFrame(data)\n",
        "\n",
        "# Add a new column: Tax is 10% of Salary\n",
        "df['Tax'] = df['Salary'] * 0.10\n",
        "\n",
        "print(df)"
      ],
      "metadata": {
        "colab": {
          "base_uri": "https://localhost:8080/"
        },
        "id": "sGrRGQVLYOeH",
        "outputId": "268d7a69-c0e1-40ce-e64d-9a4cdda3abe7"
      },
      "execution_count": 7,
      "outputs": [
        {
          "output_type": "stream",
          "name": "stdout",
          "text": [
            "      Name  Salary     Tax\n",
            "0    Alice   50000  5000.0\n",
            "1      Bob   60000  6000.0\n",
            "2  Charlie   70000  7000.0\n"
          ]
        }
      ]
    },
    {
      "cell_type": "markdown",
      "source": [
        "7.Write a program to perform element-wise multiplication of two NumPy arrays."
      ],
      "metadata": {
        "id": "gTJJzJJPYefP"
      }
    },
    {
      "cell_type": "code",
      "source": [
        "import numpy as np\n",
        "\n",
        "# Define two arrays\n",
        "a = np.array([1, 2, 3])\n",
        "b = np.array([4, 5, 6])\n",
        "\n",
        "# Element-wise multiplication\n",
        "import numpy as np\n",
        "\n",
        "# Define two arrays\n",
        "a = np.array([1, 2, 3])\n",
        "b = np.array([4, 5, 6])\n",
        "\n",
        "# Element-wise multiplication\n",
        "result = a * b\n",
        "\n",
        "print(\"Result:\", result)"
      ],
      "metadata": {
        "colab": {
          "base_uri": "https://localhost:8080/"
        },
        "id": "gi-dhxQ1YjST",
        "outputId": "cb3bef63-3cb2-41c2-cafe-c0719f75ea0e"
      },
      "execution_count": 9,
      "outputs": [
        {
          "output_type": "stream",
          "name": "stdout",
          "text": [
            "Result: [ 4 10 18]\n"
          ]
        }
      ]
    },
    {
      "cell_type": "markdown",
      "source": [
        "8.Create a line plot with multiple lines using Matplotlib."
      ],
      "metadata": {
        "id": "ze6axvTXYqNN"
      }
    },
    {
      "cell_type": "code",
      "source": [
        "import matplotlib.pyplot as plt\n",
        "\n",
        "# Sample data\n",
        "x = [1, 2, 3, 4, 5]\n",
        "y1 = [1, 4, 9, 16, 25]\n",
        "y2 = [2, 3, 5, 7, 11]\n",
        "y3 = [5, 10, 15, 20, 25]\n",
        "\n",
        "# Create line plots\n",
        "plt.plot(x, y1, label='y = x^2', color='red')\n",
        "plt.plot(x, y2, label='Prime Numbers', color='green')\n",
        "plt.plot(x, y3, label='y = 5x', color='blue')\n",
        "\n",
        "# Add labels and title\n",
        "plt.xlabel('X Axis')\n",
        "plt.ylabel('Y Axis')\n",
        "plt.title('Multiple Line Plot')\n",
        "\n",
        "# Add legend\n",
        "plt.legend()\n",
        "\n",
        "# Show the plot\n",
        "plt.show()"
      ],
      "metadata": {
        "colab": {
          "base_uri": "https://localhost:8080/",
          "height": 472
        },
        "id": "DYeLkRCWYt5u",
        "outputId": "baf08b4e-01e4-4713-ddbc-433180db884f"
      },
      "execution_count": 10,
      "outputs": [
        {
          "output_type": "display_data",
          "data": {
            "text/plain": [
              "<Figure size 640x480 with 1 Axes>"
            ],
            "image/png": "[encoded data removed]"
          },
          "metadata": {}
        }
      ]
    },
    {
      "cell_type": "markdown",
      "source": [
        "9.Generate a Pandas DataFrame and filter rows where a column value is greater than a threshold."
      ],
      "metadata": {
        "id": "22t094lNYzVy"
      }
    },
    {
      "cell_type": "code",
      "source": [
        "import pandas as pd\n",
        "\n",
        "# Create a DataFrame\n",
        "data = {\n",
        "    'Name': ['Alice', 'Bob', 'Charlie', 'David'],\n",
        "    'Age': [25, 35, 30, 40]\n",
        "}\n",
        "\n",
        "df = pd.DataFrame(data)\n",
        "\n",
        "# Filter rows where Age > 30\n",
        "filtered_df = df[df['Age'] > 30]\n",
        "\n",
        "print(filtered_df)"
      ],
      "metadata": {
        "colab": {
          "base_uri": "https://localhost:8080/"
        },
        "id": "oPnogprHY6be",
        "outputId": "6934d4c4-2c14-4504-efeb-678363c26366"
      },
      "execution_count": 11,
      "outputs": [
        {
          "output_type": "stream",
          "name": "stdout",
          "text": [
            "    Name  Age\n",
            "1    Bob   35\n",
            "3  David   40\n"
          ]
        }
      ]
    },
    {
      "cell_type": "markdown",
      "source": [
        "10.Create a histogram using Seaborn to visualize a distribution."
      ],
      "metadata": {
        "id": "G9apnvL-ZCa_"
      }
    },
    {
      "cell_type": "code",
      "source": [
        "import seaborn as sns\n",
        "import matplotlib.pyplot as plt\n",
        "\n",
        "# Sample data\n",
        "import numpy as np\n",
        "data = np.random.normal(loc=50, scale=10, size=100)\n",
        "\n",
        "# Create histogram\n",
        "sns.histplot(data, bins=10, kde=True, color='skyblue')\n",
        "\n",
        "# Add titles and labels\n",
        "plt.title('Distribution of Data')\n",
        "plt.xlabel('Value')\n",
        "plt.ylabel('Frequency')\n",
        "\n",
        "# Show plot\n"
      ],
      "metadata": {
        "colab": {
          "base_uri": "https://localhost:8080/",
          "height": 490
        },
        "id": "FmsQmfRHZGe3",
        "outputId": "352ac8db-df0a-4274-ec50-830bcc254d1a"
      },
      "execution_count": 12,
      "outputs": [
        {
          "output_type": "execute_result",
          "data": {
            "text/plain": [
              "Text(0, 0.5, 'Frequency')"
            ]
          },
          "metadata": {},
          "execution_count": 12
        },
        {
          "output_type": "display_data",
          "data": {
            "text/plain": [
              "<Figure size 640x480 with 1 Axes>"
            ],
            "image/png": "[encoded data removed]"
          },
          "metadata": {}
        }
      ]
    },
    {
      "cell_type": "markdown",
      "source": [
        "11.Perform matrix multiplication using NumPy."
      ],
      "metadata": {
        "id": "HPP7pMUwZOYW"
      }
    },
    {
      "cell_type": "code",
      "source": [
        "import numpy as np\n",
        "\n",
        "# Define two matrices\n",
        "A = np.array([[1, 2], [3, 4]])\n",
        "B = np.array([[5, 6], [7, 8]])\n",
        "\n",
        "# Matrix multiplication (dot product)\n",
        "result = np.dot(A, B)\n",
        "\n",
        "# Alternatively, you can use the '@' operator (Python 3.5+)\n",
        "# result = A @ B\n",
        "\n",
        "print(\"Matrix A:\")\n",
        "print(A)\n",
        "\n",
        "print(\"Matrix B:\")\n",
        "print(B)\n",
        "\n",
        "print(\"Matrix multiplication result:\")\n",
        "print(result)"
      ],
      "metadata": {
        "colab": {
          "base_uri": "https://localhost:8080/"
        },
        "id": "tEfWQR9EZTNF",
        "outputId": "8f83c4b1-f261-4998-b70f-47f62af60afd"
      },
      "execution_count": 13,
      "outputs": [
        {
          "output_type": "stream",
          "name": "stdout",
          "text": [
            "Matrix A:\n",
            "[[1 2]\n",
            " [3 4]]\n",
            "Matrix B:\n",
            "[[5 6]\n",
            " [7 8]]\n",
            "Matrix multiplication result:\n",
            "[[19 22]\n",
            " [43 50]]\n"
          ]
        }
      ]
    },
    {
      "cell_type": "markdown",
      "source": [
        "13.Create a 3D scatter plot using Plotly."
      ],
      "metadata": {
        "id": "oo3nL2CjZz5_"
      }
    },
    {
      "cell_type": "code",
      "source": [
        "import plotly.express as px\n",
        "import pandas as pd\n",
        "\n",
        "# Sample data\n",
        "data = {\n",
        "    'x': [1, 2, 3, 4, 5],\n",
        "    'y': [5, 4, 3, 2, 1],\n",
        "    'z': [10, 11, 12, 13, 14]\n",
        "}\n",
        "\n",
        "# Create DataFrame\n",
        "df = pd.DataFrame(data)\n",
        "\n",
        "# Create a 3D scatter plot\n",
        "fig = px.scatter_3d(df, x='x', y='y', z='z', title=\"3D Scatter Plot\")\n",
        "\n",
        "# Show plot\n",
        "fig.show()"
      ],
      "metadata": {
        "colab": {
          "base_uri": "https://localhost:8080/",
          "height": 542
        },
        "id": "9vCYy3qxZ3u_",
        "outputId": "1263d86a-fa78-42b6-f201-e393005200ba"
      },
      "execution_count": 17,
      "outputs": [
        {
          "output_type": "display_data",
          "data": {
            "text/html": [
              "<html>\n",
              "<head><meta charset=\"utf-8\" /></head>\n",
              "<body>\n",
              "    <div>            <script src=\"https://cdnjs.cloudflare.com/ajax/libs/mathjax/2.7.5/MathJax.js?config=TeX-AMS-MML_SVG\"></script><script type=\"text/javascript\">if (window.MathJax && window.MathJax.Hub && window.MathJax.Hub.Config) {window.MathJax.Hub.Config({SVG: {font: \"STIX-Web\"}});}</script>                <script type=\"text/javascript\">window.PlotlyConfig = {MathJaxConfig: 'local'};</script>\n",
              "        <script charset=\"utf-8\" src=\"https://cdn.plot.ly/plotly-2.35.2.min.js\"></script>                <div id=\"aec6c7ab-8281-4fe3-ad0b-03e7890ba137\" class=\"plotly-graph-div\" style=\"height:525px; width:100%;\"></div>            <script type=\"text/javascript\">                                    window.PLOTLYENV=window.PLOTLYENV || {};                                    if (document.getElementById(\"aec6c7ab-8281-4fe3-ad0b-03e7890ba137\")) {                    Plotly.newPlot(                        \"aec6c7ab-8281-4fe3-ad0b-03e7890ba137\",                        [{\"hovertemplate\":\"x=%{x}\\u003cbr\\u003ey=%{y}\\u003cbr\\u003ez=%{z}\\u003cextra\\u003e\\u003c\\u002fextra\\u003e\",\"legendgroup\":\"\",\"marker\":{\"color\":\"#636efa\",\"symbol\":\"circle\"},\"mode\":\"markers\",\"name\":\"\",\"scene\":\"scene\",\"showlegend\":false,\"x\":[1,2,3,4,5],\"y\":[5,4,3,2,1],\"z\":[10,11,12,13,14],\"type\":\"scatter3d\"}],                        {\"template\":{\"data\":{\"histogram2dcontour\":[{\"type\":\"histogram2dcontour\",\"colorbar\":{\"outlinewidth\":0,\"ticks\":\"\"},\"colorscale\":[[0.0,\"#0d0887\"],[0.1111111111111111,\"#46039f\"],[0.2222222222222222,\"#7201a8\"],[0.3333333333333333,\"#9c179e\"],[0.4444444444444444,\"#bd3786\"],[0.5555555555555556,\"#d8576b\"],[0.6666666666666666,\"#ed7953\"],[0.7777777777777778,\"#fb9f3a\"],[0.8888888888888888,\"#fdca26\"],[1.0,\"#f0f921\"]]}],\"choropleth\":[{\"type\":\"choropleth\",\"colorbar\":{\"outlinewidth\":0,\"ticks\":\"\"}}],\"histogram2d\":[{\"type\":\"histogram2d\",\"colorbar\":{\"outlinewidth\":0,\"ticks\":\"\"},\"colorscale\":[[0.0,\"#0d0887\"],[0.1111111111111111,\"#46039f\"],[0.2222222222222222,\"#7201a8\"],[0.3333333333333333,\"#9c179e\"],[0.4444444444444444,\"#bd3786\"],[0.5555555555555556,\"#d8576b\"],[0.6666666666666666,\"#ed7953\"],[0.7777777777777778,\"#fb9f3a\"],[0.8888888888888888,\"#fdca26\"],[1.0,\"#f0f921\"]]}],\"heatmap\":[{\"type\":\"heatmap\",\"colorbar\":{\"outlinewidth\":0,\"ticks\":\"\"},\"colorscale\":[[0.0,\"#0d0887\"],[0.1111111111111111,\"#46039f\"],[0.2222222222222222,\"#7201a8\"],[0.3333333333333333,\"#9c179e\"],[0.4444444444444444,\"#bd3786\"],[0.5555555555555556,\"#d8576b\"],[0.6666666666666666,\"#ed7953\"],[0.7777777777777778,\"#fb9f3a\"],[0.8888888888888888,\"#fdca26\"],[1.0,\"#f0f921\"]]}],\"heatmapgl\":[{\"type\":\"heatmapgl\",\"colorbar\":{\"outlinewidth\":0,\"ticks\":\"\"},\"colorscale\":[[0.0,\"#0d0887\"],[0.1111111111111111,\"#46039f\"],[0.2222222222222222,\"#7201a8\"],[0.3333333333333333,\"#9c179e\"],[0.4444444444444444,\"#bd3786\"],[0.5555555555555556,\"#d8576b\"],[0.6666666666666666,\"#ed7953\"],[0.7777777777777778,\"#fb9f3a\"],[0.8888888888888888,\"#fdca26\"],[1.0,\"#f0f921\"]]}],\"contourcarpet\":[{\"type\":\"contourcarpet\",\"colorbar\":{\"outlinewidth\":0,\"ticks\":\"\"}}],\"contour\":[{\"type\":\"contour\",\"colorbar\":{\"outlinewidth\":0,\"ticks\":\"\"},\"colorscale\":[[0.0,\"#0d0887\"],[0.1111111111111111,\"#46039f\"],[0.2222222222222222,\"#7201a8\"],[0.3333333333333333,\"#9c179e\"],[0.4444444444444444,\"#bd3786\"],[0.5555555555555556,\"#d8576b\"],[0.6666666666666666,\"#ed7953\"],[0.7777777777777778,\"#fb9f3a\"],[0.8888888888888888,\"#fdca26\"],[1.0,\"#f0f921\"]]}],\"surface\":[{\"type\":\"surface\",\"colorbar\":{\"outlinewidth\":0,\"ticks\":\"\"},\"colorscale\":[[0.0,\"#0d0887\"],[0.1111111111111111,\"#46039f\"],[0.2222222222222222,\"#7201a8\"],[0.3333333333333333,\"#9c179e\"],[0.4444444444444444,\"#bd3786\"],[0.5555555555555556,\"#d8576b\"],[0.6666666666666666,\"#ed7953\"],[0.7777777777777778,\"#fb9f3a\"],[0.8888888888888888,\"#fdca26\"],[1.0,\"#f0f921\"]]}],\"mesh3d\":[{\"type\":\"mesh3d\",\"colorbar\":{\"outlinewidth\":0,\"ticks\":\"\"}}],\"scatter\":[{\"fillpattern\":{\"fillmode\":\"overlay\",\"size\":10,\"solidity\":0.2},\"type\":\"scatter\"}],\"parcoords\":[{\"type\":\"parcoords\",\"line\":{\"colorbar\":{\"outlinewidth\":0,\"ticks\":\"\"}}}],\"scatterpolargl\":[{\"type\":\"scatterpolargl\",\"marker\":{\"colorbar\":{\"outlinewidth\":0,\"ticks\":\"\"}}}],\"bar\":[{\"error_x\":{\"color\":\"#2a3f5f\"},\"error_y\":{\"color\":\"#2a3f5f\"},\"marker\":{\"line\":{\"color\":\"#E5ECF6\",\"width\":0.5},\"pattern\":{\"fillmode\":\"overlay\",\"size\":10,\"solidity\":0.2}},\"type\":\"bar\"}],\"scattergeo\":[{\"type\":\"scattergeo\",\"marker\":{\"colorbar\":{\"outlinewidth\":0,\"ticks\":\"\"}}}],\"scatterpolar\":[{\"type\":\"scatterpolar\",\"marker\":{\"colorbar\":{\"outlinewidth\":0,\"ticks\":\"\"}}}],\"histogram\":[{\"marker\":{\"pattern\":{\"fillmode\":\"overlay\",\"size\":10,\"solidity\":0.2}},\"type\":\"histogram\"}],\"scattergl\":[{\"type\":\"scattergl\",\"marker\":{\"colorbar\":{\"outlinewidth\":0,\"ticks\":\"\"}}}],\"scatter3d\":[{\"type\":\"scatter3d\",\"line\":{\"colorbar\":{\"outlinewidth\":0,\"ticks\":\"\"}},\"marker\":{\"colorbar\":{\"outlinewidth\":0,\"ticks\":\"\"}}}],\"scattermapbox\":[{\"type\":\"scattermapbox\",\"marker\":{\"colorbar\":{\"outlinewidth\":0,\"ticks\":\"\"}}}],\"scatterternary\":[{\"type\":\"scatterternary\",\"marker\":{\"colorbar\":{\"outlinewidth\":0,\"ticks\":\"\"}}}],\"scattercarpet\":[{\"type\":\"scattercarpet\",\"marker\":{\"colorbar\":{\"outlinewidth\":0,\"ticks\":\"\"}}}],\"carpet\":[{\"aaxis\":{\"endlinecolor\":\"#2a3f5f\",\"gridcolor\":\"white\",\"linecolor\":\"white\",\"minorgridcolor\":\"white\",\"startlinecolor\":\"#2a3f5f\"},\"baxis\":{\"endlinecolor\":\"#2a3f5f\",\"gridcolor\":\"white\",\"linecolor\":\"white\",\"minorgridcolor\":\"white\",\"startlinecolor\":\"#2a3f5f\"},\"type\":\"carpet\"}],\"table\":[{\"cells\":{\"fill\":{\"color\":\"#EBF0F8\"},\"line\":{\"color\":\"white\"}},\"header\":{\"fill\":{\"color\":\"#C8D4E3\"},\"line\":{\"color\":\"white\"}},\"type\":\"table\"}],\"barpolar\":[{\"marker\":{\"line\":{\"color\":\"#E5ECF6\",\"width\":0.5},\"pattern\":{\"fillmode\":\"overlay\",\"size\":10,\"solidity\":0.2}},\"type\":\"barpolar\"}],\"pie\":[{\"automargin\":true,\"type\":\"pie\"}]},\"layout\":{\"autotypenumbers\":\"strict\",\"colorway\":[\"#636efa\",\"#EF553B\",\"#00cc96\",\"#ab63fa\",\"#FFA15A\",\"#19d3f3\",\"#FF6692\",\"#B6E880\",\"#FF97FF\",\"#FECB52\"],\"font\":{\"color\":\"#2a3f5f\"},\"hovermode\":\"closest\",\"hoverlabel\":{\"align\":\"left\"},\"paper_bgcolor\":\"white\",\"plot_bgcolor\":\"#E5ECF6\",\"polar\":{\"bgcolor\":\"#E5ECF6\",\"angularaxis\":{\"gridcolor\":\"white\",\"linecolor\":\"white\",\"ticks\":\"\"},\"radialaxis\":{\"gridcolor\":\"white\",\"linecolor\":\"white\",\"ticks\":\"\"}},\"ternary\":{\"bgcolor\":\"#E5ECF6\",\"aaxis\":{\"gridcolor\":\"white\",\"linecolor\":\"white\",\"ticks\":\"\"},\"baxis\":{\"gridcolor\":\"white\",\"linecolor\":\"white\",\"ticks\":\"\"},\"caxis\":{\"gridcolor\":\"white\",\"linecolor\":\"white\",\"ticks\":\"\"}},\"coloraxis\":{\"colorbar\":{\"outlinewidth\":0,\"ticks\":\"\"}},\"colorscale\":{\"sequential\":[[0.0,\"#0d0887\"],[0.1111111111111111,\"#46039f\"],[0.2222222222222222,\"#7201a8\"],[0.3333333333333333,\"#9c179e\"],[0.4444444444444444,\"#bd3786\"],[0.5555555555555556,\"#d8576b\"],[0.6666666666666666,\"#ed7953\"],[0.7777777777777778,\"#fb9f3a\"],[0.8888888888888888,\"#fdca26\"],[1.0,\"#f0f921\"]],\"sequentialminus\":[[0.0,\"#0d0887\"],[0.1111111111111111,\"#46039f\"],[0.2222222222222222,\"#7201a8\"],[0.3333333333333333,\"#9c179e\"],[0.4444444444444444,\"#bd3786\"],[0.5555555555555556,\"#d8576b\"],[0.6666666666666666,\"#ed7953\"],[0.7777777777777778,\"#fb9f3a\"],[0.8888888888888888,\"#fdca26\"],[1.0,\"#f0f921\"]],\"diverging\":[[0,\"#8e0152\"],[0.1,\"#c51b7d\"],[0.2,\"#de77ae\"],[0.3,\"#f1b6da\"],[0.4,\"#fde0ef\"],[0.5,\"#f7f7f7\"],[0.6,\"#e6f5d0\"],[0.7,\"#b8e186\"],[0.8,\"#7fbc41\"],[0.9,\"#4d9221\"],[1,\"#276419\"]]},\"xaxis\":{\"gridcolor\":\"white\",\"linecolor\":\"white\",\"ticks\":\"\",\"title\":{\"standoff\":15},\"zerolinecolor\":\"white\",\"automargin\":true,\"zerolinewidth\":2},\"yaxis\":{\"gridcolor\":\"white\",\"linecolor\":\"white\",\"ticks\":\"\",\"title\":{\"standoff\":15},\"zerolinecolor\":\"white\",\"automargin\":true,\"zerolinewidth\":2},\"scene\":{\"xaxis\":{\"backgroundcolor\":\"#E5ECF6\",\"gridcolor\":\"white\",\"linecolor\":\"white\",\"showbackground\":true,\"ticks\":\"\",\"zerolinecolor\":\"white\",\"gridwidth\":2},\"yaxis\":{\"backgroundcolor\":\"#E5ECF6\",\"gridcolor\":\"white\",\"linecolor\":\"white\",\"showbackground\":true,\"ticks\":\"\",\"zerolinecolor\":\"white\",\"gridwidth\":2},\"zaxis\":{\"backgroundcolor\":\"#E5ECF6\",\"gridcolor\":\"white\",\"linecolor\":\"white\",\"showbackground\":true,\"ticks\":\"\",\"zerolinecolor\":\"white\",\"gridwidth\":2}},\"shapedefaults\":{\"line\":{\"color\":\"#2a3f5f\"}},\"annotationdefaults\":{\"arrowcolor\":\"#2a3f5f\",\"arrowhead\":0,\"arrowwidth\":1},\"geo\":{\"bgcolor\":\"white\",\"landcolor\":\"#E5ECF6\",\"subunitcolor\":\"white\",\"showland\":true,\"showlakes\":true,\"lakecolor\":\"white\"},\"title\":{\"x\":0.05},\"mapbox\":{\"style\":\"light\"}}},\"scene\":{\"domain\":{\"x\":[0.0,1.0],\"y\":[0.0,1.0]},\"xaxis\":{\"title\":{\"text\":\"x\"}},\"yaxis\":{\"title\":{\"text\":\"y\"}},\"zaxis\":{\"title\":{\"text\":\"z\"}}},\"legend\":{\"tracegroupgap\":0},\"title\":{\"text\":\"3D Scatter Plot\"}},                        {\"responsive\": true}                    ).then(function(){\n",
              "                            \n",
              "var gd = document.getElementById('aec6c7ab-8281-4fe3-ad0b-03e7890ba137');\n",
              "var x = new MutationObserver(function (mutations, observer) {{\n",
              "        var display = window.getComputedStyle(gd).display;\n",
              "        if (!display || display === 'none') {{\n",
              "            console.log([gd, 'removed!']);\n",
              "            Plotly.purge(gd);\n",
              "            observer.disconnect();\n",
              "        }}\n",
              "}});\n",
              "\n",
              "// Listen for the removal of the full notebook cells\n",
              "var notebookContainer = gd.closest('#notebook-container');\n",
              "if (notebookContainer) {{\n",
              "    x.observe(notebookContainer, {childList: true});\n",
              "}}\n",
              "\n",
              "// Listen for the clearing of the current output cell\n",
              "var outputEl = gd.closest('.output');\n",
              "if (outputEl) {{\n",
              "    x.observe(outputEl, {childList: true});\n",
              "}}\n",
              "\n",
              "                        })                };                            </script>        </div>\n",
              "</body>\n",
              "</html>"
            ]
          },
          "metadata": {}
        }
      ]
    }
  ]
}